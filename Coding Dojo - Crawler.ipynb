{
 "cells": [
  {
   "cell_type": "markdown",
   "metadata": {},
   "source": [
    "# ☯ Coding Dojo ☯"
   ]
  },
  {
   "cell_type": "markdown",
   "metadata": {},
   "source": [
    "<img style=\"float:left\" src=\"imgs/vamos_coletar.png\">\n",
    "## Regras\n",
    "\n",
    "Ponto de participação, poderá perdido se:\n",
    "\n",
    "    - Aluno atrasado (ver política de atraso na especificação)\n",
    "    - Recusar participação como piloto/copiloto\n",
    "        - Ou não querer sair do computador, quando solicitado :-)\n",
    "    - Demorar para sair quando solicitado\n",
    "    - Parar de participar por:\n",
    "        - Uso de outro computador\n",
    "        - Uso de celular\n",
    "        - Usar a internet\n",
    "        - Conversa\n"
   ]
  },
  {
   "cell_type": "markdown",
   "metadata": {},
   "source": [
    "Antes de entregar, certifique-se que tenha executado todos os comandos/códigos deste Jupyter. É obrigatório que todas as saídas tenham sido apresentadas. Perda de 3 pontos caso não tenham feito isso."
   ]
  },
  {
   "cell_type": "markdown",
   "metadata": {},
   "source": [
    "# Dependencias"
   ]
  },
  {
   "cell_type": "markdown",
   "metadata": {},
   "source": [
    "Se necessário, instale o python3 e o pip3 abaixo usando `sudo apt-get install python3 python3-pip`.  Execute abaixo para instalar o [BeautifulSoup](https://www.crummy.com/software/BeautifulSoup/). Qualquer linha de comando/código como a de baixo, você pode executá-la a selecionando e pressionando `ctrl+enter` ❣️."
   ]
  },
  {
   "cell_type": "code",
   "execution_count": 1,
   "metadata": {},
   "outputs": [
    {
     "name": "stdout",
     "output_type": "stream",
     "text": [
      "Requirement already satisfied: bs4 in /home/gabriel/.local/lib/python3.8/site-packages (0.0.1)\n",
      "Requirement already satisfied: beautifulsoup4 in /home/gabriel/.local/lib/python3.8/site-packages (from bs4) (4.11.1)\n",
      "Requirement already satisfied: soupsieve>1.2 in /home/gabriel/.local/lib/python3.8/site-packages (from beautifulsoup4->bs4) (2.3.2)\n"
     ]
    }
   ],
   "source": [
    "!pip3 install bs4"
   ]
  },
  {
   "cell_type": "markdown",
   "metadata": {},
   "source": [
    "Caso de comando não encontrado `pip3` use `pip`. "
   ]
  },
  {
   "cell_type": "markdown",
   "metadata": {},
   "source": [
    "# Coletor"
   ]
  },
  {
   "cell_type": "markdown",
   "metadata": {},
   "source": [
    "<img src=\"imgs/arquitetura_coletor.png\">"
   ]
  },
  {
   "cell_type": "markdown",
   "metadata": {},
   "source": [
    "Você deverá completar a implementação das três classes abaixo para fazer o coletor: `Domain`, `Scheduler` e `PageFetcher`. Conforme figura acima, o `Scheduler` é responsável por armazenar as filas de URLs a serem requisitadas; o PageFetcher serão *threads* responsáveis por fazer as requisições das URLs obtidas por meio do escalonador (instancia da classe `Scheduler`). A classe `Domain` armazena informações importantes sobre o servidor a serem usadas no momento do escalonamento das URLs."
   ]
  },
  {
   "cell_type": "markdown",
   "metadata": {},
   "source": [
    "## Classe `Domain`"
   ]
  },
  {
   "cell_type": "markdown",
   "metadata": {},
   "source": [
    "<figure style=\"text-align:center\">\n",
    "    <img src=\"imgs/estrutura_coletor.png\">\n",
    "    <caption>Fonte: Baeza-Yates e Ribeiro-Neto, 2011 </caption>\n",
    "</figure>"
   ]
  },
  {
   "cell_type": "markdown",
   "metadata": {},
   "source": [
    "Antes de começar a fazer o escalonador (classe `Scheduler`) devemos implementar a classe que representa os domínios. Conforme visto na figura acima, o escalonador possuirá diversas filas, uma para cada servidor.  Em nosso caso, o servidor será um domínio - que você irá implementar na classe `Domain` do arquivo `domain.py`. \n",
    "\n",
    "O escalonador percorrerá cada servidor e obterá o primeiro da fila do primeiro servidor acessível. O servidor é acessível obdecendo o limite de tempo entre requisições (em segundos, usando o atributo `time_limit_between_requests`). \n",
    "\n",
    "Nesta atividade você irá implementar a classe `Domain`, que já possui os seguintes atributos: \n",
    "\n",
    "- *time_limit_between_requests*: Limite entre requisições (int)\n",
    "- *nam_domain*: Nome do domínio (String)\n",
    "- *time_last_access*: [Objeto Datetime](https://docs.python.org/3/library/datetime.html#datetime-objects) informando da data/hora do último acesso \n",
    "\n",
    "O prefixo da variável sempre irá denotar o tipo da mesma."
   ]
  },
  {
   "cell_type": "markdown",
   "metadata": {},
   "source": [
    "**Atividade 1 - classe `Domain`**: Complete a classe `Domain` implementando os métodos/atributos calculados descritos a seguir. Logo após, execute o ❣️ teste unitário ❣️ para verificar se os métodos/atributos calculados foram implementados conforme esperado.\n",
    "\n",
    "- **accessed_now**: Método que modifica o último acesso com a data/hora atual usando um [objeto datetime](https://docs.python.org/3/library/datetime.html#datetime-objects)\n",
    "- **time_since_last_access**: Atributo calculado que retorna um [objeto TimeDelta](https://docs.python.org/3/library/datetime.html#timedelta-objects) com a diferença da data atual e a data do último acesso. Veja os exemplos de uso do TimeDelta na sua documentação\n",
    "- **is_accessible**: Método que verdadeiro se o domínio estiver acessível"
   ]
  },
  {
   "cell_type": "markdown",
   "metadata": {},
   "source": [
    "Os métodos `count_fetched_page` e `has_finished_crawl` já estão implementados. Execute o teste unitário a seguir. Veja que o comando abaixo executa o teste unitário presente no arquivo `crawler/scheduler_test.py`. Analise-o para entender como implementamos testes unitários."
   ]
  },
  {
   "cell_type": "code",
   "execution_count": 2,
   "metadata": {},
   "outputs": [
    {
     "name": "stdout",
     "output_type": "stream",
     "text": [
      "Verificando acesso a um dominio já requisitado (após espera)\n",
      "aguardando 10 segundos...\n",
      ".\n",
      "----------------------------------------------------------------------\n",
      "Ran 1 test in 10.007s\n",
      "\n",
      "OK\n"
     ]
    }
   ],
   "source": [
    "!python3 -m crawler.scheduler_test DomainTest.test_domain"
   ]
  },
  {
   "cell_type": "markdown",
   "metadata": {},
   "source": [
    "**Atividade 2 - métodos `__hash__` e `__eq__` da classe `Domain`**: A fila será implementada por um dicionario ordenado ([OrderedDict](https://docs.python.org/2/library/collections.html#collections.OrderedDict)) em que a chave será um objeto da classe domínio e o valor serão uma lista de URLs. Para que seja possível a busca do domínio, você deverá implementar os métodos `__hash__` e `__eq__` de forma similar ao seguinte exemplo: "
   ]
  },
  {
   "cell_type": "code",
   "execution_count": 3,
   "metadata": {},
   "outputs": [
    {
     "name": "stdout",
     "output_type": "stream",
     "text": [
      "True\n"
     ]
    }
   ],
   "source": [
    "from collections import OrderedDict\n",
    "class Xuxu():\n",
    "    def __str__(self):\n",
    "        return \"xuxuuu\"\n",
    "    \n",
    "    def __hash__(self):\n",
    "        return hash(\"xuxu\")\n",
    "    def __eq__(self, x):\n",
    "        return x == \"xuxu\"\n",
    "d = OrderedDict()\n",
    "d[Xuxu()] = 'A'\n",
    "print(\"xuxu\" in d)"
   ]
  },
  {
   "cell_type": "markdown",
   "metadata": {},
   "source": [
    "No nosso caso, deve ser permitido fazer a busca no dicionário pelo nome do domínio ou pelo objeto, ou seja, após a implementação desta atividade, o seguinte código irá funcionar corretamente:"
   ]
  },
  {
   "cell_type": "code",
   "execution_count": 4,
   "metadata": {},
   "outputs": [
    {
     "name": "stdout",
     "output_type": "stream",
     "text": [
      "oi\n",
      "oi\n"
     ]
    }
   ],
   "source": [
    "from crawler.domain import Domain\n",
    "from collections import OrderedDict\n",
    "\n",
    "obj_domain = Domain(\"oi.com\",10)\n",
    "dic_x = OrderedDict()\n",
    "dic_x[obj_domain] = \"lala\"\n",
    "dic_x[\"oi.com\"] = \"oi\"\n",
    "\n",
    "#abaixo, em ambos os casos, será encontrado/impresso a string \"oi\"\n",
    "print(dic_x[\"oi.com\"])\n",
    "print(dic_x[obj_domain])"
   ]
  },
  {
   "cell_type": "markdown",
   "metadata": {},
   "source": [
    "Lembre-se que, em nosso caso, o parametro do método `__eq__` pode ser um objeto da classe `Domain` ou uma string representando o nome do domínio. Caso faça alguma modificação no código, você deverá reiniciar o kernel para que o efeito seja visto no código acima (para reiniciar, clique em Kernel->Restart). Isso ocorre que, uma vez dado import em um módulo, esse modulo não é alterado no Jupyter caso você faça uma modificação no código."
   ]
  },
  {
   "cell_type": "markdown",
   "metadata": {},
   "source": [
    "## Classe `Scheduler`"
   ]
  },
  {
   "cell_type": "markdown",
   "metadata": {},
   "source": [
    "Agora você irá implementar o escalonador. Essa classe será responsável por gerir as URLs.\n",
    "Para isso, será implementado as filas por servidores conforme apresentado na figura da seção anterior.\n",
    "Para isso, utilizaremos um OrderedDict em que as chaves são os servidores (objeto da classe `Domain`) e o valor será uma lista de tuplas com as URLs e sua profundidade. Com o objetivo de armazenar as URLs de forma estruturada, as mesmas **não serão** string, ao invés disso, serão objetos da classe `ParseResult` - essa classe é retornada do método [urlparse](https://docs.python.org/3/library/urllib.parse.html). Veja um exemplo abaixo.\n",
    "\n"
   ]
  },
  {
   "cell_type": "code",
   "execution_count": 5,
   "metadata": {},
   "outputs": [],
   "source": [
    "from crawler.domain import Domain\n",
    "from crawler.scheduler import Scheduler\n",
    "from urllib.parse import urlparse\n",
    "\n",
    "dict_filas_por_servidor = {Domain(\"www.globo.com\",10):[\n",
    "                                                (urlparse(\"http://www.globo.com/esporte\"),1),\n",
    "                                                (urlparse(\"http://www.globo.com/noticia_um\"),2),\n",
    "                                                (urlparse(\"http://www.globo.com/noticia_dois\"),3),\n",
    "                                                (urlparse(\"http://www.globo.com/noticia_tres\"),3),\n",
    "                                                ],\n",
    "                            Domain(\"www.cnpq.br\",10):[(urlparse(\"http://www.cnpq.br/pesquisadores\"),1),\n",
    "                                               (urlparse(\"http://www.cnpq.br/bolsas\"),1)]\n",
    "                          }"
   ]
  },
  {
   "cell_type": "code",
   "execution_count": 6,
   "metadata": {},
   "outputs": [
    {
     "data": {
      "text/plain": [
       "ParseResult(scheme='http', netloc='www.globo.com', path='/esporte', params='', query='', fragment='')"
      ]
     },
     "execution_count": 6,
     "metadata": {},
     "output_type": "execute_result"
    }
   ],
   "source": [
    "from urllib.parse import urlparse\n",
    "urlparse(\"http://www.globo.com/esporte\")"
   ]
  },
  {
   "cell_type": "markdown",
   "metadata": {},
   "source": [
    "Assim, a classe `Scheduler`, no arquivo `scheduler.py` possui os seguintes atributos: \n",
    "\n",
    "- `usr_agent`: Nome do `User agent`. Usualmente, é o nome do navegador, no nosso caso, será o nome do coletor (usualmente, terminado em `bot`)\n",
    "- `page_limit`: Número de páginas a serem coletadas\n",
    "- `depth_limit`: Profundidade máxima a ser coletada\n",
    "- `page_count`: Quantidade de páginas já coletadas\n",
    "- `dic_url_per_domain`: Fila de URLs por domínio (explicado anteriormente)\n",
    "- `set_discovered_urls`: Conjunto de URLs descobertas, ou seja, que foi extraída em algum HTML e já adicionadas na fila - mesmo se já ela foi retirada da fila. A URL armazenada deve ser uma string.\n",
    "- `dic_robots_per_domain`: Dicionário armazenando, para cada domínio, o objeto representando as regras obtidas no `robots.txt`"
   ]
  },
  {
   "cell_type": "markdown",
   "metadata": {},
   "source": [
    "**Atividade 3 - Método `can_add_page`**: Esse método irá retornar verdadeiro caso seja possível adicionar a página `obj_url` (objeto da classe ParseResult) que foi coletada na profundidade `depth`. Para que seja possível adicionar na lista, esta pagina não deve ter sido descoberta e nem com a profundidade maior que o limite. Este método será testado por teste unitário apenas após a implementação da adição e obtenção das URLs."
   ]
  },
  {
   "cell_type": "markdown",
   "metadata": {},
   "source": [
    "**Atividade 4 método `add_new_page` - Adicionar nova página**:  Este método retorna falso caso não seja possível adicionar a página (por meio do método `can_add_page`) e verdadeiro, caso contrário. Caso seja possível, deve-se adicionar a url `obj_url` na fila `dic_url_per_domain`. Lembre-se da estrutura do dicionário `dic_url_per_domain`. Não esqueça de armazenar que esta URL já foi descoberta. Este método será testado por teste unitário apenas após a implementação da obtenção das URLs. Lembre-se de como trabalhar com [dicionários](https://daniel-hasan.github.io/cefet-web-grad/classes/python2/#mais-colecoes)"
   ]
  },
  {
   "cell_type": "markdown",
   "metadata": {},
   "source": [
    "**Atividade 5 método `get_next_url` - obtém a próxima URL da fila**: Este método retona uma tupla `url,profundade` da próxima URL a ser coletada por meio da fila `dic_url_per_domain` retirando este item da fila. Lembre-se que: \n",
    "    \n",
    "- Ele deverá retornar a primeira URL do primeiro servidor que estiver acessível. \n",
    "- Você deve indicar que o servidor foi acessado \n",
    "- Caso a fila deste servidor esteja vazia, elimine-o do dicionário\n",
    "- Caso não encontre a URL, [coloque a Thread para esperar](https://docs.python.org/2/library/time.html#time.sleep) e, logo após, procure novamente \n",
    "\n",
    "Logo após, você já pode executar o teste unitário para verificar se a obtenção e adição de URLs está correta. Caso haja algum problema, existem já alguns prints comentados no código, descomente-os para verificar se o fluxo está ocorrendo da forma correta. Você deverá entregar sem a exibição desses prints (caso contrário, perderá pontos)."
   ]
  },
  {
   "cell_type": "code",
   "execution_count": 7,
   "metadata": {},
   "outputs": [
    {
     "name": "stdout",
     "output_type": "stream",
     "text": [
      "Verificação da ordem das URLs...\n",
      "Resgatando a segunda página do mesmo dominio...\n",
      "Tempo esperado: 20 segundos\n",
      ".\n",
      "----------------------------------------------------------------------\n",
      "Ran 1 test in 20.020s\n",
      "\n",
      "OK\n"
     ]
    }
   ],
   "source": [
    "!python3 -m crawler.scheduler_test SchedulerTest.test_add_remove_page"
   ]
  },
  {
   "cell_type": "markdown",
   "metadata": {},
   "source": [
    "**Atividade 6 método `can_fetch_page`**: Este método deve retornar verdadeiro caso a url (Objeto `ParseResult`), passada como parâmetro, pode ser coletada de acordo com o `Robots.txt` do domínio. Para isso, você deve usar o [`RobotFileParser`](https://docs.python.org/3/library/urllib.robotparser.html) para requisitar a URL do `robots.txt` deste domínio. Por razões de performance, você só poderá requisitar o robots.txt uma única vez por domínio. Assim, use o `dic_robots_per_domain` apropriadamente. Execute o teste unitário abaixo para verificar seu funcionamento. "
   ]
  },
  {
   "cell_type": "code",
   "execution_count": 8,
   "metadata": {},
   "outputs": [
    {
     "name": "stdout",
     "output_type": "stream",
     "text": [
      ".\n",
      "----------------------------------------------------------------------\n",
      "Ran 1 test in 1.941s\n",
      "\n",
      "OK\n"
     ]
    }
   ],
   "source": [
    "!python3 -m crawler.scheduler_test SchedulerTest.test_can_fetch"
   ]
  },
  {
   "cell_type": "markdown",
   "metadata": {},
   "source": [
    "**Atividade 7 - Inicialização das sementes no construtor**: No construtor da classe `Scheduler` você deve adicionar as páginas sementes na fila. Tais sementes são passadas pelo parametro `arr_urls_seeds` do construtor. "
   ]
  },
  {
   "cell_type": "code",
   "execution_count": 9,
   "metadata": {},
   "outputs": [
    {
     "name": "stdout",
     "output_type": "stream",
     "text": [
      ".\n",
      "----------------------------------------------------------------------\n",
      "Ran 1 test in 0.000s\n",
      "\n",
      "OK\n"
     ]
    }
   ],
   "source": [
    "!python3 -m crawler.scheduler_test SchedulerTest.test_init"
   ]
  },
  {
   "cell_type": "markdown",
   "metadata": {},
   "source": [
    "Logo após, utize a anotação @synchronized aonde julgar necessário para transformar em ThreadSafe."
   ]
  },
  {
   "cell_type": "markdown",
   "metadata": {},
   "source": [
    "## PageFetcher"
   ]
  },
  {
   "cell_type": "markdown",
   "metadata": {},
   "source": [
    "**Atividade 8 - Efetuar a requisição - método `request_url`:** Neste método você irá fazer a requisição usando a api [requests](https://requests.readthedocs.io/en/master/). Além disso, deve-se informar no cabeçalho (em `User-Agent`) o nome do coletor. O método deverá retornar o conteúdo (em binário) apenas se o conteúdo for HTML (ver no cabeçalho da resposta o tipo do conteúdo). Caso não seja, ele deverá retornar None. "
   ]
  },
  {
   "cell_type": "code",
   "execution_count": 10,
   "metadata": {},
   "outputs": [
    {
     "name": "stdout",
     "output_type": "stream",
     "text": [
      ".\n",
      "----------------------------------------------------------------------\n",
      "Ran 1 test in 1.615s\n",
      "\n",
      "OK\n"
     ]
    }
   ],
   "source": [
    "!python3 -m crawler.page_fetcher_test PageFetcherTest.test_request_url"
   ]
  },
  {
   "cell_type": "markdown",
   "metadata": {},
   "source": [
    "**Atividade 9 extração das URLs por meio do método `discover_links`**: A partir do conteúdo (texto em binário) `bin_str_content` deve-se extrair seus os links. O conteúdo esta em binário, pois, o BeautifulSoup, internamente, verifica o encoding por meio da [tag meta](https://www.w3schools.com/tags/att_meta_charset.asp) e converte para UTF8. A URL da página coletada é um objeto ParseResult `obj_url` que está na profundidade `depth`. \n",
    "\n",
    "Para cada URL extraída, você deverá retornar uma tupla com a URL (objeto ParseResult) e a sua profundidade. Utilize o comando `yield` para retornar essas tuplas. A profundidade é calculada de por meio de  `obj_url` e `depth`, conforme comentado em sala de aula. \n",
    "\n",
    "Para a extração dos links, use o [CSS Selector do BeautifulSoup](https://www.crummy.com/software/BeautifulSoup/bs4/doc/#css-selectors). Seletor CSS é uma expressão que define quais elementos HTML serão estilizados pelo CSS. No *Beatifulsoup* eles são usados para selecionar quais tags serão extraídas. Veja o exemplo de uso e brinque abaixo. Caso precise, veja aqui um pouco de seletores CSS: [slides de Web](https://fegemo.github.io/cefet-front-end/classes/css2/#outros-seletores), [documentação MDN](https://developer.mozilla.org/en-US/docs/Web/CSS/CSS_Selectors)."
   ]
  },
  {
   "cell_type": "code",
   "execution_count": 11,
   "metadata": {},
   "outputs": [
    {
     "name": "stdout",
     "output_type": "stream",
     "text": [
      "Requirement already satisfied: lxml in /home/gabriel/.local/lib/python3.8/site-packages (4.8.0)\n"
     ]
    }
   ],
   "source": [
    "!pip install lxml"
   ]
  },
  {
   "cell_type": "code",
   "execution_count": 12,
   "metadata": {},
   "outputs": [
    {
     "name": "stdout",
     "output_type": "stream",
     "text": [
      "Simulação da extração de links da página https://www.pudim.com.br na profundidade nível 2...\n",
      ".\n",
      "----------------------------------------------------------------------\n",
      "Ran 1 test in 0.001s\n",
      "\n",
      "OK\n"
     ]
    }
   ],
   "source": [
    "!python3 -m crawler.page_fetcher_test PageFetcherTest.test_discover_links"
   ]
  },
  {
   "cell_type": "markdown",
   "metadata": {},
   "source": [
    "**Atividade 10 - método que solicita uma nova URL**: Por meio do método `crawl_new_url` você deverá utilizar os métodos previamente implementados para:\n",
    "\n",
    "- Solicitar ao escalonador uma nova URL\n",
    "- Fazer a requisição e obter o resultado (em binário)\n",
    "- Caso a URL seja um HTML válido, imprima esta URL e extraia os seus links"
   ]
  },
  {
   "cell_type": "markdown",
   "metadata": {},
   "source": [
    "**Atividade 11 - método run**: Este método deve coletar páginas enquanto a coleta não foi finalizada"
   ]
  },
  {
   "cell_type": "markdown",
   "metadata": {},
   "source": [
    "**Atividade 12 - um pequeno teste para finalizar:** Use as sementes do seu grupo e crie abaixo um escalonador e 5 PageFetchers para extrair 30 páginas. Imprima também o tempo gasto total."
   ]
  },
  {
   "cell_type": "code",
   "execution_count": 1,
   "metadata": {},
   "outputs": [
    {
     "name": "stdout",
     "output_type": "stream",
     "text": [
      "URL: https://www.terra.com.br\n",
      "URL: https://www.canaltech.com.br\n",
      "URL: https://www.uol.com.br\n",
      "Error: OrderedDict mutated during iteration\n",
      "URL: https://www.terra.com.br/#trr-ctn-general\n",
      "Error: HTTPSConnectionPool(host='www.casasbahia.com.br', port=443): Read timed out. (read timeout=20)\n",
      "URL: https://www.uol.com.br///www.uol.com.br/\n",
      "URL: https://www.canaltech.com.br//\n",
      "URL: https://www.maisgoias.com.br/ex-mulher-de-luciano-detona-wanessa-camargo-apos-anuncio-de-divorcio/?utm_source=terra_capa&utm_medium=referral\n",
      "URL: https://mail.terra.com.br\n",
      "URL: https://portalpopline.com.br/power-couple-hadson-ivy-revelam-quem-flay-ficando/?utm_source=terra_capa&utm_medium=referral\n",
      "URL: https://www.terraempresas.com.br/?utm_source=terra%20360&utm_medium=barra%20central&utm_campaign=todos-servicos&utm_term=pos-01&cdConvenio=CVTR00002055\n",
      "URL: https://servicos.terra.com.br/cursos-online/promo/super-oferta/?utm_source=terra&utm_medium=espaco-fixo&utm_campaign=cursos-online_produto&utm_content=barra-central&utm_term=pos-02&cdConvenio=CVTR00002055\n",
      "URL: https://www.youtube.com/channel/UCSPG-5cYvPjUFs3YwqDmqzw\n",
      "URL: https://terraempresas.com.br/construtor-sites/promo/oferta-especial/?utm_source=terra&utm_medium=espaco-fixo&utm_campaign=construtor-de-sites_lp&utm_content=barra-central&utm_term=pos-03&cdConvenio=CVTR00002055\n"
     ]
    },
    {
     "name": "stderr",
     "output_type": "stream",
     "text": [
      "encoding error : input conversion failed due to input error, bytes 0x8E 0xF0 0x9F 0x98\n",
      "encoding error : input conversion failed due to input error, bytes 0x8E 0xF0 0x9F 0x98\n"
     ]
    },
    {
     "name": "stdout",
     "output_type": "stream",
     "text": [
      "URL: https://podcast.canalte.ch/\n",
      "URL: https://chrome.google.com/webstore/detail/canaltech/aaheckeofbchahoglpgjmengoeggpcid\n",
      "URL: https://play.google.com/store/apps/details?id=br.com.canaltech\n",
      "URL: https://porta101.canalte.ch/\n"
     ]
    },
    {
     "name": "stderr",
     "output_type": "stream",
     "text": [
      "encoding error : input conversion failed due to input error, bytes 0x8D 0x2E 0x20 0x46\n",
      "encoding error : input conversion failed due to input error, bytes 0x8D 0x2E 0x20 0x46\n"
     ]
    },
    {
     "name": "stdout",
     "output_type": "stream",
     "text": [
      "URL: https://canaltech.com.br/produtos/os-melhores-iphones-para-comprar-em-2021-190039/\n",
      "URL: https://www.uol.com.br/eleicoes/\n",
      "Error: OrderedDict mutated during iteration\n",
      "Error: HTTPSConnectionPool(host='www.terra.com.br', port=443): Max retries exceeded with url: /comunidade/visao-do-corre/?headers=user-agent (Caused by NewConnectionError('<urllib3.connection.VerifiedHTTPSConnection object at 0x7f11ba1284f0>: Failed to establish a new connection: [Errno -3] Temporary failure in name resolution'))\n",
      "URL: https://www.canaltech.com.br//ultimas/\n",
      "URL: https://www.maisgoias.com.br/ex-mulher-de-luciano-detona-wanessa-camargo-apos-anuncio-de-divorcio/\n",
      "URL: https://portalpopline.com.br/power-couple-hadson-ivy-revelam-quem-flay-ficando/\n",
      "URL: https://www.terraempresas.com.br/loja-virtual/?utm_source=terra&utm_medium=espaco-fixo&utm_campaign=loja-virtual_produto&utm_content=barra-central&utm_term=pos-01&cdConvenio=CVTR00002055\n",
      "URL: https://servicos.terra.com.br/curso-de-ingles/?utm_source=terra&utm_medium=espaco-fixo&utm_campaign=curso-de-ingles_produto&utm_content=barra-central&utm_term=pos-04&cdConvenio=CVTR00002055\n",
      "URL: https://terraempresas.com.br/tel:08007771234\n",
      "URL: https://www.youtube.com/channel/UC_bXJnsgwOqEPA_-6N6faKw\n"
     ]
    },
    {
     "name": "stderr",
     "output_type": "stream",
     "text": [
      "encoding error : input conversion failed due to input error, bytes 0x81 0x4C 0x49 0x53\n",
      "encoding error : input conversion failed due to input error, bytes 0x81 0x4C 0x49 0x53\n"
     ]
    },
    {
     "name": "stdout",
     "output_type": "stream",
     "text": [
      "URL: https://www.terra.com.br/nos/\n",
      "URL: https://www.uol.com.br/play/o-radar-das-eleicoes/\n",
      "URL: https://www.canaltech.com.br//mais-lidas/\n",
      "URL: https://www.maisgoias.com.br/juiz-aposentado-compulsoriamente-e-investigado-por-venda-de-sentencas/?utm_source=terra_capa&utm_medium=referral\n",
      "Tempo da coleta = 86.11477422714233 s\n"
     ]
    }
   ],
   "source": [
    "from crawler.scheduler import Scheduler\n",
    "from crawler.page_fetcher import PageFetcher\n",
    "from urllib.parse import urlparse\n",
    "import time\n",
    "\n",
    "arr_seeds = [\"https://www.terra.com.br\",\n",
    "             \"https://www.uol.com.br\",\n",
    "             \"https://www.canaltech.com.br\",\n",
    "             \"https://www.casasbahia.com.br\"]\n",
    "\n",
    "arr_seeds = [urlparse(str_url) for str_url in arr_seeds]\n",
    "\n",
    "scheduler = Scheduler(usr_agent=\"OtakuBot (https://allrightishere.github.io/OtakuBot/)\", page_limit=30, depth_limit=10, arr_urls_seeds=arr_seeds)\n",
    "\n",
    "arr_fetcher = []\n",
    "\n",
    "start = time.time()\n",
    "for i in range(5):\n",
    "    arr_fetcher.append(PageFetcher(scheduler))\n",
    "    arr_fetcher[i].start()\n",
    "\n",
    "\n",
    "for fetcher in arr_fetcher:\n",
    "    fetcher.join()\n",
    "end = time.time()\n",
    "\n",
    "print(f'Tempo da coleta = {end - start} s')\n"
   ]
  },
  {
   "cell_type": "markdown",
   "metadata": {},
   "source": [
    "### Utilizar os seguintes parâmetros no coletor:\n",
    " - Número máximo de páginas (50.000 páginas)\n",
    " - Profundidade por domínio (6 páginas)\n",
    " - Número de threads utilizado\n",
    "#### Use pelo menos 3 sementes\n",
    "#### Produzir um relatório em jupyter a ser definido na próxima seção\n",
    "#### Armazenar a lista de URLs coletadas\n"
   ]
  },
  {
   "cell_type": "code",
   "execution_count": 2,
   "metadata": {},
   "outputs": [
    {
     "name": "stdout",
     "output_type": "stream",
     "text": [
      "URL: https://www.canaltech.com.br\n",
      "URL: https://www.terra.com.br\n",
      "URL: https://www.uol.com.br\n",
      "Error: OrderedDict mutated during iteration\n",
      "Error: HTTPSConnectionPool(host='www.casasbahia.com.br', port=443): Read timed out. (read timeout=20)\n",
      "URL: https://www.uol.com.br///www.uol.com.br/\n",
      "URL: https://www.terra.com.br/#trr-ctn-general\n",
      "URL: https://www.youtube.com/channel/UCSPG-5cYvPjUFs3YwqDmqzw\n",
      "URL: https://chrome.google.com/webstore/detail/canaltech/aaheckeofbchahoglpgjmengoeggpcid\n",
      "URL: https://www.canaltech.com.br//\n",
      "URL: https://porta101.canalte.ch/\n",
      "URL: https://canaltech.com.br/produtos/os-melhores-iphones-para-comprar-em-2021-190039/\n",
      "URL: https://podcast.canalte.ch/\n"
     ]
    },
    {
     "name": "stderr",
     "output_type": "stream",
     "text": [
      "encoding error : input conversion failed due to input error, bytes 0x8E 0xF0 0x9F 0x98\n",
      "encoding error : input conversion failed due to input error, bytes 0x8E 0xF0 0x9F 0x98\n"
     ]
    },
    {
     "name": "stdout",
     "output_type": "stream",
     "text": [
      "URL: https://play.google.com/store/apps/details?id=br.com.canaltech\n",
      "URL: https://www.linkedin.com/company/canaltech-brasil/\n",
      "URL: https://twitter.com/canaltech\n",
      "URL: https://www.facebook.com/canaltech\n",
      "URL: https://instagram.com/canaltech\n",
      "URL: https://ofertas.canaltech.com.br/\n",
      "URL: https://qualcomm-snapdragon.canaltech.com.br/?utm_source=canaltech&utm_campaign=home&utm_medium=site\n",
      "URL: https://mundo-samsung.canaltech.com.br/?utm_source=canaltech&utm_campaign=home&utm_medium=site\n",
      "URL: https://itunes.apple.com/br/app/canaltech/id1005606952?mt=8\n",
      "URL: https://mail.terra.com.br\n",
      "URL: https://www.maisgoias.com.br/ex-mulher-de-luciano-detona-wanessa-camargo-apos-anuncio-de-divorcio/?utm_source=terra_capa&utm_medium=referral\n"
     ]
    },
    {
     "name": "stderr",
     "output_type": "stream",
     "text": [
      "encoding error : input conversion failed due to input error, bytes 0x8D 0x2E 0x20 0x46\n",
      "encoding error : input conversion failed due to input error, bytes 0x8D 0x2E 0x20 0x46\n"
     ]
    },
    {
     "name": "stdout",
     "output_type": "stream",
     "text": [
      "URL: https://portalpopline.com.br/power-couple-hadson-ivy-revelam-quem-flay-ficando/?utm_source=terra_capa&utm_medium=referral\n",
      "URL: https://www.terraempresas.com.br/?utm_source=terra%20360&utm_medium=barra%20central&utm_campaign=todos-servicos&utm_term=pos-01&cdConvenio=CVTR00002055\n",
      "URL: https://batepapo.uol.com.br/\n",
      "URL: https://servicos.terra.com.br/cursos-online/promo/super-oferta/?utm_source=terra&utm_medium=espaco-fixo&utm_campaign=cursos-online_produto&utm_content=barra-central&utm_term=pos-02&cdConvenio=CVTR00002055\n",
      "URL: https://terraempresas.com.br/construtor-sites/promo/oferta-especial/?utm_source=terra&utm_medium=espaco-fixo&utm_campaign=construtor-de-sites_lp&utm_content=barra-central&utm_term=pos-03&cdConvenio=CVTR00002055\n",
      "URL: https://www.passeidireto.com/?utm_source=uol.com.br&utm_medium=barra-uol\n",
      "URL: https://play.uol.com.br/?utm_source=uol.com.br&utm_medium=barrauol&utm_campaign=linkfixo_barrauol&utm_term=barrauol-uolplay&utm_content=barrauol\n",
      "URL: https://www.ingresso.com/home?partnership=home&utm_source=uol.com.br&utm_medium=barrauol&utm_campaign=linkfixo_barrauol&utm_content=barrauol-link-ingressocom&utm_term=barrauol-ingressocom\n",
      "URL: https://email.uol.com.br/\n",
      "URL: https://assine.uol.com.br/?utm_source=uol.com.br&utm_medium=barra-uol&utm_campaign=barra-uol-assine&utm_content=botao-assine-homeuol\n",
      "URL: https://meunegocio.uol.com.br?utm_medium=uol.com.br&utm_source=interna&utm_campaign=barra_uol&utm_content=link_fixo_umn&utm_term=barra_topo\n",
      "URL: https://sac.uol.com.br/#/\n",
      "Error: OrderedDict mutated during iteration\n",
      "URL: https://www.youtube.com/channel/UC_bXJnsgwOqEPA_-6N6faKw\n",
      "URL: https://www.canaltech.com.br//ultimas/\n",
      "URL: https://clicklogger.rm.uol.com.br/?prd=32&grp=src:210;chn:0;creative:barrauol;thm:barrauol-pagseguro&msr=Cliques%20de%20Origem:1&oper=11&redir=https://pagseguro.uol.com.br/\n"
     ]
    },
    {
     "name": "stderr",
     "output_type": "stream",
     "text": [
      "encoding error : input conversion failed due to input error, bytes 0x81 0x4C 0x49 0x53\n",
      "encoding error : input conversion failed due to input error, bytes 0x81 0x4C 0x49 0x53\n"
     ]
    },
    {
     "name": "stdout",
     "output_type": "stream",
     "text": [
      "Error: OrderedDict mutated during iteration\n",
      "URL: https://www.terra.com.br/comunidade/visao-do-corre/\n",
      "URL: https://www.uol.com.br/eleicoes/\n",
      "URL: https://play.google.com//store/apps\n",
      "URL: https://chrome.google.com/webstore/report/aaheckeofbchahoglpgjmengoeggpcid\n",
      "URL: https://canaltech.com.br/produtos/melhor-galaxy-a-para-comprar-190083/\n",
      "URL: https://www.facebook.com/UOL\n",
      "URL: https://twitter.com/UOL\n",
      "URL: https://instagram.com/portalpopline\n",
      "URL: https://itunes.apple.com/#ac-gn-menustate\n",
      "Error: OrderedDict mutated during iteration\n",
      "URL: https://www.linkedin.com/company/ingresso-com/\n",
      "URL: https://qualcomm-snapdragon.canaltech.com.br/\n",
      "URL: https://ofertas.canaltech.com.br/categorias/\n",
      "URL: https://www.uol.com.br/play/o-radar-das-eleicoes/\n",
      "URL: https://www.canaltech.com.br//mais-lidas/\n",
      "URL: https://www.youtube.com/canaltechnews\n",
      "Error: OrderedDict mutated during iteration\n",
      "URL: https://www.terra.com.br/nos/\n",
      "URL: https://mundo-samsung.canaltech.com.br/\n",
      "URL: https://www.maisgoias.com.br/ex-mulher-de-luciano-detona-wanessa-camargo-apos-anuncio-de-divorcio/\n",
      "URL: https://chrome.google.com//webstore\n",
      "URL: https://play.google.com//apps\n",
      "URL: https://canaltech.com.br/produtos/qual-e-o-melhor-moto-g-para-comprar-190888/\n",
      "URL: https://www.facebook.com/\n",
      "Error: OrderedDict mutated during iteration\n",
      "URL: https://itunes.apple.com/\n",
      "URL: https://www.terra.com.br/esportes/\n",
      "URL: https://www.uol.com.br/eleicoes/2022/sabatina-folha-uol/\n",
      "URL: https://www.canaltech.com.br//smartphone/\n",
      "URL: https://www.youtube.com/c/MaravilhasdaTecnologia\n"
     ]
    },
    {
     "name": "stderr",
     "output_type": "stream",
     "text": [
      "encoding error : input conversion failed due to input error, bytes 0x9D 0x97 0xE2 0x9D\n",
      "encoding error : input conversion failed due to input error, bytes 0x9D 0x97 0xE2 0x9D\n"
     ]
    },
    {
     "name": "stdout",
     "output_type": "stream",
     "text": [
      "URL: https://www.terra.com.br/noticias/\n"
     ]
    },
    {
     "ename": "KeyboardInterrupt",
     "evalue": "",
     "output_type": "error",
     "traceback": [
      "\u001b[0;31m---------------------------------------------------------------------------\u001b[0m",
      "\u001b[0;31mKeyboardInterrupt\u001b[0m                         Traceback (most recent call last)",
      "\u001b[0;32m/tmp/ipykernel_12269/3291709292.py\u001b[0m in \u001b[0;36m<module>\u001b[0;34m\u001b[0m\n\u001b[1;32m     24\u001b[0m \u001b[0;34m\u001b[0m\u001b[0m\n\u001b[1;32m     25\u001b[0m \u001b[0;32mfor\u001b[0m \u001b[0mfetcher\u001b[0m \u001b[0;32min\u001b[0m \u001b[0marr_fetcher\u001b[0m\u001b[0;34m:\u001b[0m\u001b[0;34m\u001b[0m\u001b[0;34m\u001b[0m\u001b[0m\n\u001b[0;32m---> 26\u001b[0;31m     \u001b[0mfetcher\u001b[0m\u001b[0;34m.\u001b[0m\u001b[0mjoin\u001b[0m\u001b[0;34m(\u001b[0m\u001b[0;34m)\u001b[0m\u001b[0;34m\u001b[0m\u001b[0;34m\u001b[0m\u001b[0m\n\u001b[0m\u001b[1;32m     27\u001b[0m \u001b[0mend\u001b[0m \u001b[0;34m=\u001b[0m \u001b[0mtime\u001b[0m\u001b[0;34m.\u001b[0m\u001b[0mtime\u001b[0m\u001b[0;34m(\u001b[0m\u001b[0;34m)\u001b[0m\u001b[0;34m\u001b[0m\u001b[0;34m\u001b[0m\u001b[0m\n\u001b[1;32m     28\u001b[0m \u001b[0;34m\u001b[0m\u001b[0m\n",
      "\u001b[0;32m/usr/lib/python3.8/threading.py\u001b[0m in \u001b[0;36mjoin\u001b[0;34m(self, timeout)\u001b[0m\n\u001b[1;32m   1009\u001b[0m \u001b[0;34m\u001b[0m\u001b[0m\n\u001b[1;32m   1010\u001b[0m         \u001b[0;32mif\u001b[0m \u001b[0mtimeout\u001b[0m \u001b[0;32mis\u001b[0m \u001b[0;32mNone\u001b[0m\u001b[0;34m:\u001b[0m\u001b[0;34m\u001b[0m\u001b[0;34m\u001b[0m\u001b[0m\n\u001b[0;32m-> 1011\u001b[0;31m             \u001b[0mself\u001b[0m\u001b[0;34m.\u001b[0m\u001b[0m_wait_for_tstate_lock\u001b[0m\u001b[0;34m(\u001b[0m\u001b[0;34m)\u001b[0m\u001b[0;34m\u001b[0m\u001b[0;34m\u001b[0m\u001b[0m\n\u001b[0m\u001b[1;32m   1012\u001b[0m         \u001b[0;32melse\u001b[0m\u001b[0;34m:\u001b[0m\u001b[0;34m\u001b[0m\u001b[0;34m\u001b[0m\u001b[0m\n\u001b[1;32m   1013\u001b[0m             \u001b[0;31m# the behavior of a negative timeout isn't documented, but\u001b[0m\u001b[0;34m\u001b[0m\u001b[0;34m\u001b[0m\u001b[0;34m\u001b[0m\u001b[0m\n",
      "\u001b[0;32m/usr/lib/python3.8/threading.py\u001b[0m in \u001b[0;36m_wait_for_tstate_lock\u001b[0;34m(self, block, timeout)\u001b[0m\n\u001b[1;32m   1025\u001b[0m         \u001b[0;32mif\u001b[0m \u001b[0mlock\u001b[0m \u001b[0;32mis\u001b[0m \u001b[0;32mNone\u001b[0m\u001b[0;34m:\u001b[0m  \u001b[0;31m# already determined that the C code is done\u001b[0m\u001b[0;34m\u001b[0m\u001b[0;34m\u001b[0m\u001b[0m\n\u001b[1;32m   1026\u001b[0m             \u001b[0;32massert\u001b[0m \u001b[0mself\u001b[0m\u001b[0;34m.\u001b[0m\u001b[0m_is_stopped\u001b[0m\u001b[0;34m\u001b[0m\u001b[0;34m\u001b[0m\u001b[0m\n\u001b[0;32m-> 1027\u001b[0;31m         \u001b[0;32melif\u001b[0m \u001b[0mlock\u001b[0m\u001b[0;34m.\u001b[0m\u001b[0macquire\u001b[0m\u001b[0;34m(\u001b[0m\u001b[0mblock\u001b[0m\u001b[0;34m,\u001b[0m \u001b[0mtimeout\u001b[0m\u001b[0;34m)\u001b[0m\u001b[0;34m:\u001b[0m\u001b[0;34m\u001b[0m\u001b[0;34m\u001b[0m\u001b[0m\n\u001b[0m\u001b[1;32m   1028\u001b[0m             \u001b[0mlock\u001b[0m\u001b[0;34m.\u001b[0m\u001b[0mrelease\u001b[0m\u001b[0;34m(\u001b[0m\u001b[0;34m)\u001b[0m\u001b[0;34m\u001b[0m\u001b[0;34m\u001b[0m\u001b[0m\n\u001b[1;32m   1029\u001b[0m             \u001b[0mself\u001b[0m\u001b[0;34m.\u001b[0m\u001b[0m_stop\u001b[0m\u001b[0;34m(\u001b[0m\u001b[0;34m)\u001b[0m\u001b[0;34m\u001b[0m\u001b[0;34m\u001b[0m\u001b[0m\n",
      "\u001b[0;31mKeyboardInterrupt\u001b[0m: "
     ]
    }
   ],
   "source": [
    "from crawler.scheduler import Scheduler\n",
    "from crawler.page_fetcher import PageFetcher\n",
    "from urllib.parse import urlparse\n",
    "import time\n",
    "\n",
    "arr_seeds = [\"https://www.terra.com.br\",\n",
    "             \"https://www.uol.com.br\",\n",
    "             \"https://www.canaltech.com.br\",\n",
    "             \"https://www.casasbahia.com.br\"]\n",
    "\n",
    "arr_seeds = [urlparse(str_url) for str_url in arr_seeds]\n",
    "\n",
    "scheduler = Scheduler(usr_agent=\"OtakuBot (https://allrightishere.github.io/OtakuBot/)\", page_limit=50000, depth_limit=6, arr_urls_seeds=arr_seeds)\n",
    "\n",
    "arr_fetcher = []\n",
    "\n",
    "num_threads = 8\n",
    "\n",
    "start = time.time()\n",
    "for i in range(num_threads):\n",
    "    arr_fetcher.append(PageFetcher(scheduler))\n",
    "    arr_fetcher[i].start()\n",
    "\n",
    "\n",
    "for fetcher in arr_fetcher:\n",
    "    fetcher.join()\n",
    "end = time.time()\n",
    "\n",
    "print(f'Tempo da coleta = {end - start} s')\n"
   ]
  },
  {
   "cell_type": "markdown",
   "metadata": {},
   "source": [
    "# Bibliografia\n",
    "\n",
    "Baeza-Yates, Ricardo; Ribeiro-Neto, Berthier. **Modern information retrieval: the concepts and technology behind search**. ACM Press, 2011.\n",
    "\n",
    "Batista, Natércia ; Brandão, Michele ; Pinheiro, Michele ; Dalip, Daniel ; Moro, Mirella . **[Dados de Múltiplas Fontes da Web: coleta, integração e pré-processamento](https://sol.sbc.org.br/livros/index.php/sbc/catalog/download/8/19/58-1?inline=1)**. Minicursos do XXIV Simpósio Brasileiro de Sistemas Multimídia e Web. 1ed.: Sociedade Brasileira de Computação, 2018, v. , p. 153-192."
   ]
  }
 ],
 "metadata": {
  "kernelspec": {
   "display_name": "Python 3",
   "language": "python",
   "name": "python3"
  },
  "language_info": {
   "codemirror_mode": {
    "name": "ipython",
    "version": 3
   },
   "file_extension": ".py",
   "mimetype": "text/x-python",
   "name": "python",
   "nbconvert_exporter": "python",
   "pygments_lexer": "ipython3",
   "version": "3.8.10"
  }
 },
 "nbformat": 4,
 "nbformat_minor": 2
}
